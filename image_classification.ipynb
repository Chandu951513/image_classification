{
  "nbformat": 4,
  "nbformat_minor": 0,
  "metadata": {
    "colab": {
      "provenance": []
    },
    "kernelspec": {
      "name": "python3",
      "display_name": "Python 3"
    },
    "language_info": {
      "name": "python"
    }
  },
  "cells": [
    {
      "cell_type": "code",
      "execution_count": 1,
      "metadata": {
        "colab": {
          "base_uri": "https://localhost:8080/",
          "height": 0
        },
        "id": "PzwtTgmjn8rO",
        "outputId": "ef8f13cb-cd15-4621-dfd9-d0087199aa02"
      },
      "outputs": [
        {
          "output_type": "stream",
          "name": "stdout",
          "text": [
            "Collecting ipython-autotime\n",
            "  Downloading ipython_autotime-0.3.2-py2.py3-none-any.whl.metadata (1.4 kB)\n",
            "Requirement already satisfied: ipython in /usr/local/lib/python3.10/dist-packages (from ipython-autotime) (7.34.0)\n",
            "Requirement already satisfied: setuptools>=18.5 in /usr/local/lib/python3.10/dist-packages (from ipython->ipython-autotime) (71.0.4)\n",
            "Collecting jedi>=0.16 (from ipython->ipython-autotime)\n",
            "  Using cached jedi-0.19.1-py2.py3-none-any.whl.metadata (22 kB)\n",
            "Requirement already satisfied: decorator in /usr/local/lib/python3.10/dist-packages (from ipython->ipython-autotime) (4.4.2)\n",
            "Requirement already satisfied: pickleshare in /usr/local/lib/python3.10/dist-packages (from ipython->ipython-autotime) (0.7.5)\n",
            "Requirement already satisfied: traitlets>=4.2 in /usr/local/lib/python3.10/dist-packages (from ipython->ipython-autotime) (5.7.1)\n",
            "Requirement already satisfied: prompt-toolkit!=3.0.0,!=3.0.1,<3.1.0,>=2.0.0 in /usr/local/lib/python3.10/dist-packages (from ipython->ipython-autotime) (3.0.47)\n",
            "Requirement already satisfied: pygments in /usr/local/lib/python3.10/dist-packages (from ipython->ipython-autotime) (2.16.1)\n",
            "Requirement already satisfied: backcall in /usr/local/lib/python3.10/dist-packages (from ipython->ipython-autotime) (0.2.0)\n",
            "Requirement already satisfied: matplotlib-inline in /usr/local/lib/python3.10/dist-packages (from ipython->ipython-autotime) (0.1.7)\n",
            "Requirement already satisfied: pexpect>4.3 in /usr/local/lib/python3.10/dist-packages (from ipython->ipython-autotime) (4.9.0)\n",
            "Requirement already satisfied: parso<0.9.0,>=0.8.3 in /usr/local/lib/python3.10/dist-packages (from jedi>=0.16->ipython->ipython-autotime) (0.8.4)\n",
            "Requirement already satisfied: ptyprocess>=0.5 in /usr/local/lib/python3.10/dist-packages (from pexpect>4.3->ipython->ipython-autotime) (0.7.0)\n",
            "Requirement already satisfied: wcwidth in /usr/local/lib/python3.10/dist-packages (from prompt-toolkit!=3.0.0,!=3.0.1,<3.1.0,>=2.0.0->ipython->ipython-autotime) (0.2.13)\n",
            "Downloading ipython_autotime-0.3.2-py2.py3-none-any.whl (7.0 kB)\n",
            "Using cached jedi-0.19.1-py2.py3-none-any.whl (1.6 MB)\n",
            "Installing collected packages: jedi, ipython-autotime\n",
            "Successfully installed ipython-autotime-0.3.2 jedi-0.19.1\n",
            "time: 434 µs (started: 2024-08-25 03:52:24 +00:00)\n"
          ]
        }
      ],
      "source": [
        "!pip install ipython-autotime\n",
        "%load_ext autotime"
      ]
    },
    {
      "cell_type": "code",
      "source": [
        "!pip install bing-image-downloader"
      ],
      "metadata": {
        "colab": {
          "base_uri": "https://localhost:8080/",
          "height": 0
        },
        "id": "4h515Psnqcn6",
        "outputId": "b2ad5ed0-2109-4ece-cde2-8da1b1fccb0e"
      },
      "execution_count": 2,
      "outputs": [
        {
          "output_type": "stream",
          "name": "stdout",
          "text": [
            "Collecting bing-image-downloader\n",
            "  Downloading bing_image_downloader-1.1.2-py3-none-any.whl.metadata (2.8 kB)\n",
            "Downloading bing_image_downloader-1.1.2-py3-none-any.whl (5.9 kB)\n",
            "Installing collected packages: bing-image-downloader\n",
            "Successfully installed bing-image-downloader-1.1.2\n",
            "time: 4.13 s (started: 2024-08-25 03:58:45 +00:00)\n"
          ]
        }
      ]
    },
    {
      "cell_type": "code",
      "source": [
        "!mkdir images"
      ],
      "metadata": {
        "colab": {
          "base_uri": "https://localhost:8080/",
          "height": 0
        },
        "id": "kSbLxApor7VW",
        "outputId": "2c197f46-0907-4825-93eb-a188a1cc4f4d"
      },
      "execution_count": 3,
      "outputs": [
        {
          "output_type": "stream",
          "name": "stdout",
          "text": [
            "time: 106 ms (started: 2024-08-25 03:59:09 +00:00)\n"
          ]
        }
      ]
    },
    {
      "cell_type": "code",
      "source": [
        "from bing_image_downloader import downloader\n",
        "downloader.download(\"pretty sunflower\", limit=30,  output_dir='images', adult_filter_off=True, force_replace=False, timeout=60)"
      ],
      "metadata": {
        "colab": {
          "base_uri": "https://localhost:8080/",
          "height": 0
        },
        "id": "AUdidZTvsBAV",
        "outputId": "2d281f9b-598d-4a58-df5d-44b0831cb183"
      },
      "execution_count": 4,
      "outputs": [
        {
          "output_type": "stream",
          "name": "stdout",
          "text": [
            "[%] Downloading Images to /content/images/pretty sunflower\n",
            "\n",
            "\n",
            "[!!]Indexing page: 1\n",
            "\n",
            "[%] Indexed 30 Images on Page 1.\n",
            "\n",
            "===============================================\n",
            "\n",
            "[%] Downloading Image #1 from https://www.10wallpaper.com/wallpaper/2560x1440/1802/Pretty_sunflower_flowers_plant_closeup_2560x1440.jpg\n",
            "[%] File Downloaded !\n",
            "\n",
            "[%] Downloading Image #2 from http://www.wallpaperbetter.com/wallpaper/555/59/732/beautiful-sunflowers-field-2K-wallpaper.jpg\n",
            "[%] File Downloaded !\n",
            "\n",
            "[%] Downloading Image #3 from https://external-preview.redd.it/19pzivrmy-sqMDGtG4WPe9STst_kGxmN9nWlHDAo3Ls.jpg?auto=webp&amp;s=946c9c34be43ae61a64ce6708c84624988182b29\n",
            "[!] Issue getting: https://external-preview.redd.it/19pzivrmy-sqMDGtG4WPe9STst_kGxmN9nWlHDAo3Ls.jpg?auto=webp&amp;s=946c9c34be43ae61a64ce6708c84624988182b29\n",
            "[!] Error:: HTTP Error 403: Blocked\n",
            "[%] Downloading Image #3 from http://travelikealocalvt.com/wp-content/uploads/2014/10/sunflower-963x1024.jpg\n",
            "[%] File Downloaded !\n",
            "\n",
            "[%] Downloading Image #4 from http://wallsdesk.com/wp-content/uploads/2017/01/Sunflower-HD-Desktop.jpg\n",
            "[%] File Downloaded !\n",
            "\n",
            "[%] Downloading Image #5 from https://www.wallpapers13.com/wp-content/uploads/2015/12/Sunflower-Field-Wallpaper-Beautiful-Flowers-Pictures-Sunflower-Field-Wallpaper.jpg\n",
            "[%] File Downloaded !\n",
            "\n",
            "[%] Downloading Image #6 from https://i.pinimg.com/originals/70/28/15/7028151ff5ce9777b8105ee3acfe2522.jpg\n",
            "[%] File Downloaded !\n",
            "\n",
            "[%] Downloading Image #7 from http://getwallpapers.com/wallpaper/full/f/2/d/714217-best-sunflower-wallpapers-1920x1080.jpg\n",
            "[%] File Downloaded !\n",
            "\n",
            "[%] Downloading Image #8 from https://images-na.ssl-images-amazon.com/images/I/71V2L33-FwL._SL1201_.jpg\n",
            "[%] File Downloaded !\n",
            "\n",
            "[%] Downloading Image #9 from https://wallpaperset.com/w/full/6/1/2/190995.jpg\n",
            "[%] File Downloaded !\n",
            "\n",
            "[%] Downloading Image #10 from https://wallpapercave.com/wp/wp4492439.jpg\n",
            "[%] File Downloaded !\n",
            "\n",
            "[%] Downloading Image #11 from https://i.pinimg.com/736x/c1/2e/0f/c12e0ff23e46ed5ba64c7ecb30115265.jpg\n",
            "[%] File Downloaded !\n",
            "\n",
            "[%] Downloading Image #12 from https://wallpapercave.com/wp/0qghkct.jpg\n",
            "[%] File Downloaded !\n",
            "\n",
            "[%] Downloading Image #13 from http://4.bp.blogspot.com/-EvQYk5Z2ISQ/TV1Y6C9VAlI/AAAAAAAAADA/0PviOUYUjU8/s1600/Sunflower.jpg\n",
            "[%] File Downloaded !\n",
            "\n",
            "[%] Downloading Image #14 from https://img.sunset02.com/sites/default/files/image/royalflush1.jpg\n",
            "[%] File Downloaded !\n",
            "\n",
            "[%] Downloading Image #15 from https://images7.alphacoders.com/752/thumb-1920-752041.jpg\n",
            "[%] File Downloaded !\n",
            "\n",
            "[%] Downloading Image #16 from http://upload.wikimedia.org/wikipedia/commons/b/b1/Sunflowers_in_field.jpg\n",
            "[%] File Downloaded !\n",
            "\n",
            "[%] Downloading Image #17 from https://cdn.wallpapersafari.com/9/91/pmkLiv.jpg\n",
            "[%] File Downloaded !\n",
            "\n",
            "[%] Downloading Image #18 from http://www.lovethispic.com/uploaded_images/346137-Beautiful-Sunflower.jpg\n",
            "[%] File Downloaded !\n",
            "\n",
            "[%] Downloading Image #19 from https://preppywallpapers.com/wp-content/uploads/2019/08/Sunflower-iPhone-Wallpapers.jpg\n",
            "[!] Issue getting: https://preppywallpapers.com/wp-content/uploads/2019/08/Sunflower-iPhone-Wallpapers.jpg\n",
            "[!] Error:: <urlopen error [Errno -2] Name or service not known>\n",
            "[%] Downloading Image #19 from https://images.pexels.com/photos/1169084/pexels-photo-1169084.jpeg?cs=srgb&amp;dl=nature-sunny-flowers-1169084.jpg&amp;fm=jpg\n",
            "[%] File Downloaded !\n",
            "\n",
            "[%] Downloading Image #20 from https://torange.biz/photo/32/HD/sunflowers-sunflower-bouquet-beautiful-32702.jpg\n",
            "[%] File Downloaded !\n",
            "\n",
            "[%] Downloading Image #21 from https://wallpaperaccess.com/full/1514481.jpg\n",
            "[%] File Downloaded !\n",
            "\n",
            "[%] Downloading Image #22 from http://hq-wall.net/wall_preview/146181/229b64aa426ae57365e30f2792bdedad/Beautiful-Sunflowers-19.jpg\n",
            "[Error]Invalid image, not saving http://hq-wall.net/wall_preview/146181/229b64aa426ae57365e30f2792bdedad/Beautiful-Sunflowers-19.jpg\n",
            "\n",
            "[!] Issue getting: http://hq-wall.net/wall_preview/146181/229b64aa426ae57365e30f2792bdedad/Beautiful-Sunflowers-19.jpg\n",
            "[!] Error:: Invalid image, not saving http://hq-wall.net/wall_preview/146181/229b64aa426ae57365e30f2792bdedad/Beautiful-Sunflowers-19.jpg\n",
            "\n",
            "[%] Downloading Image #22 from https://upload.wikimedia.org/wikipedia/commons/3/39/Sunflower_Helianthus_1_edited.png\n",
            "[%] File Downloaded !\n",
            "\n",
            "[%] Downloading Image #23 from http://getwallpapers.com/wallpaper/full/b/a/8/820264-sunflowers-wallpaper-1920x1200-ios.jpg\n",
            "[%] File Downloaded !\n",
            "\n",
            "[%] Downloading Image #24 from https://get.pxhere.com/photo/plant-flower-summer-yellow-sunflower-flowers-sunny-sunflowers-petals-helianthus-floristry-yellow-flowers-summer-flowers-sunflower-field-flowering-plant-daisy-family-flower-bouquet-sunflower-seed-annual-plant-land-plant-819277.jpg\n",
            "[%] File Downloaded !\n",
            "\n",
            "[%] Downloading Image #25 from https://get.pxhere.com/photo/nature-plant-sun-field-sunlight-flower-petal-botany-yellow-flora-sunflower-wildflower-pretty-macro-photography-flowering-plant-daisy-family-asterales-sunflower-seed-annual-plant-plant-stem-land-plant-614762.jpg\n",
            "[%] File Downloaded !\n",
            "\n",
            "[%] Downloading Image #26 from http://getwallpapers.com/wallpaper/full/6/b/b/820284-large-sunflowers-wallpaper-1920x1200-notebook.jpg\n",
            "[%] File Downloaded !\n",
            "\n",
            "[%] Downloading Image #27 from https://wallpaperaccess.com/full/1514599.jpg\n",
            "[%] File Downloaded !\n",
            "\n",
            "\n",
            "\n",
            "[!!]Indexing page: 2\n",
            "\n",
            "[%] Indexed 95 Images on Page 2.\n",
            "\n",
            "===============================================\n",
            "\n",
            "[%] Downloading Image #28 from https://images.pexels.com/photos/21461/pexels-photo.jpg?cs=srgb&amp;dl=pexels-skitterphoto-21461.jpg&amp;fm=jpg\n",
            "[%] File Downloaded !\n",
            "\n",
            "[%] Downloading Image #29 from https://www.hdwallpapers.in/download/broad_field_of_sunflowers_under_cloudy_and_blue_sky_during_sunset_4k_hd_flowers-HD.jpg\n",
            "[%] File Downloaded !\n",
            "\n",
            "[%] Downloading Image #30 from https://preview.redd.it/abicw7s70kmz.jpg?auto=webp&amp;s=3d0a7499d80c34668389a0147659b820513e2d61\n",
            "[!] Issue getting: https://preview.redd.it/abicw7s70kmz.jpg?auto=webp&amp;s=3d0a7499d80c34668389a0147659b820513e2d61\n",
            "[!] Error:: HTTP Error 403: Blocked\n",
            "[%] Downloading Image #30 from https://www.wallpaperflare.com/static/107/864/897/sunflower-sunset-landscape-photography-field-wallpaper.jpg\n",
            "[%] File Downloaded !\n",
            "\n",
            "\n",
            "\n",
            "[%] Done. Downloaded 30 images.\n",
            "time: 14.9 s (started: 2024-08-25 04:02:05 +00:00)\n"
          ]
        }
      ]
    },
    {
      "cell_type": "code",
      "source": [
        "from bing_image_downloader import downloader\n",
        "downloader.download(\"cars\", limit=30,  output_dir='images', adult_filter_off=True, force_replace=False, timeout=60)"
      ],
      "metadata": {
        "colab": {
          "base_uri": "https://localhost:8080/",
          "height": 0
        },
        "id": "dUzkH5a-ssHj",
        "outputId": "57068d95-8565-4aec-c4a3-8f039cfcd04c"
      },
      "execution_count": 5,
      "outputs": [
        {
          "output_type": "stream",
          "name": "stdout",
          "text": [
            "[%] Downloading Images to /content/images/cars\n",
            "\n",
            "\n",
            "[!!]Indexing page: 1\n",
            "\n",
            "[%] Indexed 90 Images on Page 1.\n",
            "\n",
            "===============================================\n",
            "\n",
            "[%] Downloading Image #1 from https://wallup.net/wp-content/uploads/2019/09/841798-lamborghini-aventador-super-veloce-cars-supercars-red.jpg\n",
            "[%] File Downloaded !\n",
            "\n",
            "[%] Downloading Image #2 from http://getwallpapers.com/wallpaper/full/f/6/8/1285331-best-disney-cars-movie-wallpaper-2400x1797-1080p.jpg\n",
            "[%] File Downloaded !\n",
            "\n",
            "[%] Downloading Image #3 from https://wallpaperaccess.com/full/155161.jpg\n",
            "[%] File Downloaded !\n",
            "\n",
            "[%] Downloading Image #4 from https://wallpapercave.com/wp/wp1869540.jpg\n",
            "[%] File Downloaded !\n",
            "\n",
            "[%] Downloading Image #5 from http://www.hdcarwallpapers.com/walls/2016_chevy_camaro-wide.jpg\n",
            "[%] File Downloaded !\n",
            "\n",
            "[%] Downloading Image #6 from https://prod-ripcut-delivery.disney-plus.net/v1/variant/disney/2FA696E26739A45020434268539398688A4194DEB0C445119ADBB58C347A4AF8/scale?aspectRatio=1.78&amp;format=jpeg\n",
            "[%] File Downloaded !\n",
            "\n",
            "[%] Downloading Image #7 from https://www.pixelstalk.net/wp-content/uploads/2016/10/HD-free-disney-cars-pictures.jpg\n",
            "[%] File Downloaded !\n",
            "\n",
            "[%] Downloading Image #8 from https://cdn.hiconsumption.com/wp-content/uploads/2020/09/Best-Concept-Cars-0-Hero.jpg\n",
            "[%] File Downloaded !\n",
            "\n",
            "[%] Downloading Image #9 from https://performancedrive.com.au/wp-content/uploads/2016/08/Inferno-supercar.jpg\n",
            "[%] File Downloaded !\n",
            "\n",
            "[%] Downloading Image #10 from https://wallpapercave.com/wp/wp2014140.jpg\n",
            "[%] File Downloaded !\n",
            "\n",
            "[%] Downloading Image #11 from https://newevolutiondesigns.com/images/freebies/car-wallpaper-4.jpg\n",
            "[!] Issue getting: https://newevolutiondesigns.com/images/freebies/car-wallpaper-4.jpg\n",
            "[!] Error:: <urlopen error [Errno -2] Name or service not known>\n",
            "[%] Downloading Image #11 from https://www.pixelstalk.net/wp-content/uploads/2016/06/Lamborghini-Desktop-HD-Car-Wallpapers.jpg\n",
            "[%] File Downloaded !\n",
            "\n",
            "[%] Downloading Image #12 from https://newevolutiondesigns.com/images/freebies/car-wallpaper-16.jpg\n",
            "[!] Issue getting: https://newevolutiondesigns.com/images/freebies/car-wallpaper-16.jpg\n",
            "[!] Error:: <urlopen error [Errno -2] Name or service not known>\n",
            "[%] Downloading Image #12 from http://www.pixelstalk.net/wp-content/uploads/2016/06/Cool-Car-Wallpapers-HD.jpg\n",
            "[%] File Downloaded !\n",
            "\n",
            "[%] Downloading Image #13 from https://wallpapercave.com/wp/wp2707538.jpg\n",
            "[%] File Downloaded !\n",
            "\n",
            "[%] Downloading Image #14 from https://wallpapercave.com/wp/wp1972021.jpg\n",
            "[%] File Downloaded !\n",
            "\n",
            "[%] Downloading Image #15 from https://newevolutiondesigns.com/images/freebies/car-wallpaper-6.jpg\n",
            "[!] Issue getting: https://newevolutiondesigns.com/images/freebies/car-wallpaper-6.jpg\n",
            "[!] Error:: <urlopen error [Errno -2] Name or service not known>\n",
            "[%] Downloading Image #15 from https://www.pixelstalk.net/wp-content/uploads/2016/06/Pictures-Download-HD-Car-Wallpapers.jpg\n",
            "[%] File Downloaded !\n",
            "\n",
            "[%] Downloading Image #16 from https://www.pixelstalk.net/wp-content/uploads/2016/08/Lamborghini-mountain-fog-sports-car-photos.jpg\n",
            "[%] File Downloaded !\n",
            "\n",
            "[%] Downloading Image #17 from https://wallpapercave.com/wp/wp2341763.jpg\n",
            "[%] File Downloaded !\n",
            "\n",
            "[%] Downloading Image #18 from https://wallpaper.dog/large/10948259.jpg\n",
            "[%] File Downloaded !\n",
            "\n",
            "[%] Downloading Image #19 from http://getwallpapers.com/wallpaper/full/3/5/4/819206-new-cool-car-wallpapers-for-desktop-2560x1600-for-samsung.jpg\n",
            "[%] File Downloaded !\n",
            "\n",
            "[%] Downloading Image #20 from https://www.pixelstalk.net/wp-content/uploads/2016/06/HD-Car-Wallpapers-Free-Download.jpg\n",
            "[%] File Downloaded !\n",
            "\n",
            "[%] Downloading Image #21 from http://getwallpapers.com/wallpaper/full/7/7/3/511258.jpg\n",
            "[%] File Downloaded !\n",
            "\n",
            "[%] Downloading Image #22 from http://www.pixelstalk.net/wp-content/uploads/2016/06/Hd-Car-wallpapers-Download.jpg\n",
            "[%] File Downloaded !\n",
            "\n",
            "[%] Downloading Image #23 from https://wallpaperaccess.com/full/40105.jpg\n",
            "[%] File Downloaded !\n",
            "\n",
            "[%] Downloading Image #24 from http://1.bp.blogspot.com/-9UyUH0-OOA8/TkmK5Fx6ZwI/AAAAAAAABME/lIv8TrQdy2w/s1600/cool-car-26.jpg\n",
            "[%] File Downloaded !\n",
            "\n",
            "[%] Downloading Image #25 from https://www.pixelstalk.net/wp-content/uploads/2016/06/Backgrounds-HD-Wallpaper-Car.jpg\n",
            "[%] File Downloaded !\n",
            "\n",
            "[%] Downloading Image #26 from https://wallpapercave.com/wp/2iOUS0e.jpg\n",
            "[%] File Downloaded !\n",
            "\n",
            "[%] Downloading Image #27 from https://logos-download.com/wp-content/uploads/2016/09/Cars_logo.jpg\n",
            "[%] File Downloaded !\n",
            "\n",
            "[%] Downloading Image #28 from http://2.bp.blogspot.com/-J-4RAQvsMXw/UR3Gh_MV6pI/AAAAAAAAAcE/PZxkBk8pbd8/s1600/car+logos+3.jpg\n",
            "[%] File Downloaded !\n",
            "\n",
            "[%] Downloading Image #29 from https://images-wixmp-ed30a86b8c4ca887773594c2.wixmp.com/i/932f9bb8-9e49-4742-9310-653c21333279/d1mao0x-63221e5c-9392-44dc-b098-851a4c791bf2.jpg\n",
            "[%] File Downloaded !\n",
            "\n",
            "[%] Downloading Image #30 from https://listcarbrands.com/wp-content/uploads/2015/08/Car-logos.jpg\n",
            "[%] File Downloaded !\n",
            "\n",
            "\n",
            "\n",
            "[%] Done. Downloaded 30 images.\n",
            "time: 11.7 s (started: 2024-08-25 04:03:32 +00:00)\n"
          ]
        }
      ]
    },
    {
      "cell_type": "code",
      "source": [
        "from bing_image_downloader import downloader\n",
        "downloader.download(\"bikes\", limit=30,  output_dir='images', adult_filter_off=True, force_replace=False, timeout=60)"
      ],
      "metadata": {
        "colab": {
          "base_uri": "https://localhost:8080/",
          "height": 0
        },
        "id": "HXewQkI5tBOy",
        "outputId": "1bb6692a-217c-440f-c76a-cb8aa94450e8"
      },
      "execution_count": 6,
      "outputs": [
        {
          "output_type": "stream",
          "name": "stdout",
          "text": [
            "[%] Downloading Images to /content/images/bikes\n",
            "\n",
            "\n",
            "[!!]Indexing page: 1\n",
            "\n",
            "[%] Indexed 90 Images on Page 1.\n",
            "\n",
            "===============================================\n",
            "\n",
            "[%] Downloading Image #1 from https://images.singletracks.com/blog/wp-content/uploads/2018/04/Trek_FullStache_D.Milner_portrait.jpg\n",
            "[%] File Downloaded !\n",
            "\n",
            "[%] Downloading Image #2 from https://s3.ap-southeast-2.amazonaws.com/media.flowmountainbike.com/wp-content/uploads/2022/05/19111655/2022-Scott-Spark-RC-00494.jpg\n",
            "[!] Issue getting: https://s3.ap-southeast-2.amazonaws.com/media.flowmountainbike.com/wp-content/uploads/2022/05/19111655/2022-Scott-Spark-RC-00494.jpg\n",
            "[!] Error:: HTTP Error 403: Forbidden\n",
            "[%] Downloading Image #2 from https://s3.ap-southeast-2.amazonaws.com/media.flowmountainbike.com/wp-content/uploads/2022/05/18204018/2022-Giant-Anthem-New-Frame-08925.jpg\n",
            "[!] Issue getting: https://s3.ap-southeast-2.amazonaws.com/media.flowmountainbike.com/wp-content/uploads/2022/05/18204018/2022-Giant-Anthem-New-Frame-08925.jpg\n",
            "[!] Error:: HTTP Error 403: Forbidden\n",
            "[%] Downloading Image #2 from https://i5.walmartimages.com/asr/03e250d1-4204-4ac8-9e82-4d8aac82e200_1.a1d4bcc05375697b1071f51700281181.jpeg\n",
            "[%] File Downloaded !\n",
            "\n",
            "[%] Downloading Image #3 from https://wallpaperaccess.com/full/226908.jpg\n",
            "[%] File Downloaded !\n",
            "\n",
            "[%] Downloading Image #4 from https://i5.walmartimages.com/asr/26d209ea-75d0-4e78-baff-21452964b8e7_3.10a8768db977c7d4c56072047085b9b4.jpeg\n",
            "[%] File Downloaded !\n",
            "\n",
            "[%] Downloading Image #5 from https://optibike.com/wp-content/uploads/2020/05/R15C-gloss-black-red-left-outdoors.jpg\n",
            "[%] File Downloaded !\n",
            "\n",
            "[%] Downloading Image #6 from https://d21buns5ku92am.cloudfront.net/69347/images/397361-RadRhino6PlusHeroEU-1c19a5-original-1626734672.jpeg\n",
            "[%] File Downloaded !\n",
            "\n",
            "[%] Downloading Image #7 from http://bmxmuseum.com/image/_dsc5908589d192267_blowup.jpg\n",
            "[%] File Downloaded !\n",
            "\n",
            "[%] Downloading Image #8 from https://i5.walmartimages.com/asr/a830eb8e-b2aa-4fa7-99d0-13ad7b01da70_3.c8a34065c5c1bac325f1707ff667b1af.jpeg\n",
            "[%] File Downloaded !\n",
            "\n",
            "[%] Downloading Image #9 from https://images.immediate.co.uk/production/volatile/sites/21/2019/10/20190823thames828-e330620.jpg?quality=45&amp;resize=2149,1433\n",
            "[%] File Downloaded !\n",
            "\n",
            "[%] Downloading Image #10 from https://lemonbin.com/wp-content/uploads/2020/06/bicycle-types-june172020-min.jpg\n",
            "[%] File Downloaded !\n",
            "\n",
            "[%] Downloading Image #11 from https://cdn.thecoolist.com/wp-content/uploads/2016/08/Cruiser-types-of-bicycle.jpg\n",
            "[%] File Downloaded !\n",
            "\n",
            "[%] Downloading Image #12 from https://cdn.thecoolist.com/wp-content/uploads/2016/08/Single-Speed-types-of-bicycle.jpg\n",
            "[%] File Downloaded !\n",
            "\n",
            "[%] Downloading Image #13 from https://www.bicycling.co.za/wp-content/uploads/2019/09/allbikes-1539286251.jpg\n",
            "[%] File Downloaded !\n",
            "\n",
            "[%] Downloading Image #14 from https://i0.wp.com/www.londoncyclist.co.uk/wp-content/uploads/2015/10/Time-trial-bike.jpg?fit=1500%2C1003&amp;ssl=1\n",
            "[!] Issue getting: https://i0.wp.com/www.londoncyclist.co.uk/wp-content/uploads/2015/10/Time-trial-bike.jpg?fit=1500%2C1003&amp;ssl=1\n",
            "[!] Error:: HTTP Error 404: Not Found\n",
            "[%] Downloading Image #14 from https://cdn.road.cc/sites/default/files/styles/main_width/public/beginners-guide-bike-types-nov-2021.jpg\n",
            "[%] File Downloaded !\n",
            "\n",
            "[%] Downloading Image #15 from https://i.pinimg.com/originals/a1/86/2a/a1862a7b40bd0f09a8e73554648858d6.jpg\n",
            "[%] File Downloaded !\n",
            "\n",
            "[%] Downloading Image #16 from http://static1.squarespace.com/static/5a3b03eab1ffb616b4013e6d/5a3b09f124a6947d9dfdf25e/5a475e9441920273ab565042/1516845942766/Bicycle+Type_Infographic.png?format=1500w\n",
            "[%] File Downloaded !\n",
            "\n",
            "[%] Downloading Image #17 from https://bikexchange.com/wp-content/uploads/2020/12/bikes1212-e1630349513789-1024x677.png\n",
            "[%] File Downloaded !\n",
            "\n",
            "[%] Downloading Image #18 from https://cdn.thecoolist.com/wp-content/uploads/2016/08/Fixie-types-of-bicycle.jpg\n",
            "[%] File Downloaded !\n",
            "\n",
            "[%] Downloading Image #19 from https://cdn.road.cc/sites/default/files/styles/main_width/public/beginners-guide-bike-types-march-2021.jpg\n",
            "[%] File Downloaded !\n",
            "\n",
            "[%] Downloading Image #20 from https://inchbyinch.de/wp-content/uploads/2020/02/0601-bicycle-types-1024x768.jpeg\n",
            "[%] File Downloaded !\n",
            "\n",
            "[%] Downloading Image #21 from https://www.bicycle-guider.com/wp-content/uploads/2021/05/71xxnVu5XqL._AC_SL1305_.jpg\n",
            "[%] File Downloaded !\n",
            "\n",
            "[%] Downloading Image #22 from https://cdn.thecoolist.com/wp-content/uploads/2016/08/Hybrid-type-of-bicycle.jpg\n",
            "[%] File Downloaded !\n",
            "\n",
            "[%] Downloading Image #23 from https://cdn.road.cc/sites/default/files/styles/main_width/public/beginners-guide-bike-types-july-2018.jpg?itok=1wbTKGND\n",
            "[%] File Downloaded !\n",
            "\n",
            "[%] Downloading Image #24 from https://www.cyclistshub.com/wp-content/uploads/2021/01/types-of-road-bikes-full-size.png\n",
            "[%] File Downloaded !\n",
            "\n",
            "[%] Downloading Image #25 from https://i.pinimg.com/originals/78/87/b8/7887b88e467e673b2f7d5db45a0954b3.jpg\n",
            "[%] File Downloaded !\n",
            "\n",
            "[%] Downloading Image #26 from http://www.londoncyclist.co.uk/wp-content/uploads/2015/10/Folding-bike-e1445252415734.jpg\n",
            "[%] File Downloaded !\n",
            "\n",
            "[%] Downloading Image #27 from https://image.made-in-china.com/2f0j00nBvtCNgcSSzK/Folding-Bike-Bicycle-DH-202-.jpg\n",
            "[%] File Downloaded !\n",
            "\n",
            "[%] Downloading Image #28 from https://cdn.mos.cms.futurecdn.net/6Huhhcr2SF25QSRDFJF8Qi.jpg\n",
            "[%] File Downloaded !\n",
            "\n",
            "[%] Downloading Image #29 from https://brobible.com/wp-content/uploads/2018/04/joy-bicycle-bag.jpg\n",
            "[%] File Downloaded !\n",
            "\n",
            "[%] Downloading Image #30 from http://blogrope.com/wp-content/uploads/2016/03/13-1.jpg\n",
            "[%] File Downloaded !\n",
            "\n",
            "\n",
            "\n",
            "[%] Done. Downloaded 30 images.\n",
            "time: 13.8 s (started: 2024-08-25 04:05:16 +00:00)\n"
          ]
        }
      ]
    },
    {
      "cell_type": "code",
      "source": [
        "import numpy as np\n",
        "import os\n",
        "import matplotlib.pyplot as plt\n",
        "from skimage.io import imread\n",
        "from skimage.transform import resize\n",
        "\n",
        "target=[]\n",
        "images=[]\n",
        "flat_images=[]\n",
        "basedir=\"/content/images\"\n",
        "categories=['pretty sunflower','cars','bikes']\n",
        "for category in categories:\n",
        "  index=categories.index(category)\n",
        "  path=os.path.join(basedir,category)\n",
        "  for img in os.listdir(path):\n",
        "    img_arry=imread(os.path.join(path,img))\n",
        "    img_resize=resize(img_arry,(150,150,3))\n",
        "    flat_images.append(img_resize.flatten())\n",
        "    images.append(img_resize)\n",
        "    target.append(index)\n",
        ""
      ],
      "metadata": {
        "colab": {
          "base_uri": "https://localhost:8080/",
          "height": 0
        },
        "id": "HCEftdtWtaoh",
        "outputId": "e363aad0-4b08-40db-b864-82460088cf69"
      },
      "execution_count": 23,
      "outputs": [
        {
          "output_type": "stream",
          "name": "stdout",
          "text": [
            "time: 3min (started: 2024-08-25 06:17:53 +00:00)\n"
          ]
        }
      ]
    },
    {
      "cell_type": "code",
      "source": [
        "\n",
        "\n",
        "target=np.array(target)\n",
        "images=np.array(images)\n"
      ],
      "metadata": {
        "colab": {
          "base_uri": "https://localhost:8080/",
          "height": 0
        },
        "id": "pK6SIKm3FpEP",
        "outputId": "a91ff98e-fb79-4809-f780-c4bf38f5ba13"
      },
      "execution_count": 24,
      "outputs": [
        {
          "output_type": "stream",
          "name": "stdout",
          "text": [
            "time: 16.2 ms (started: 2024-08-25 06:22:51 +00:00)\n"
          ]
        }
      ]
    },
    {
      "cell_type": "code",
      "source": [
        "flat_images=np.array(flat_images)"
      ],
      "metadata": {
        "colab": {
          "base_uri": "https://localhost:8080/",
          "height": 0
        },
        "id": "T9vGTuXaH3oq",
        "outputId": "ed03575f-ffef-4be9-8ceb-3584b70c7935"
      },
      "execution_count": 25,
      "outputs": [
        {
          "output_type": "stream",
          "name": "stdout",
          "text": [
            "time: 16.3 ms (started: 2024-08-25 06:22:52 +00:00)\n"
          ]
        }
      ]
    },
    {
      "cell_type": "code",
      "source": [
        "target"
      ],
      "metadata": {
        "colab": {
          "base_uri": "https://localhost:8080/",
          "height": 0
        },
        "id": "yfa3HZFZJ57t",
        "outputId": "ed1feba2-f63e-4134-8bf6-d3703ce20599"
      },
      "execution_count": 27,
      "outputs": [
        {
          "output_type": "execute_result",
          "data": {
            "text/plain": [
              "array([0, 0, 0, 0, 0, 0, 0, 0, 0, 0, 0, 0, 0, 0, 0, 0, 0, 0, 0, 0, 0, 0,\n",
              "       0, 0, 0, 0, 0, 0, 0, 0, 1, 1, 1, 1, 1, 1, 1, 1, 1, 1, 1, 1, 1, 1,\n",
              "       1, 1, 1, 1, 1, 1, 1, 1, 1, 1, 1, 1, 1, 1, 1, 1, 2, 2, 2, 2, 2, 2,\n",
              "       2, 2, 2, 2, 2, 2, 2, 2, 2, 2, 2, 2, 2, 2, 2, 2, 2, 2, 2, 2, 2, 2,\n",
              "       2, 2])"
            ]
          },
          "metadata": {},
          "execution_count": 27
        },
        {
          "output_type": "stream",
          "name": "stdout",
          "text": [
            "time: 5.68 ms (started: 2024-08-25 06:38:02 +00:00)\n"
          ]
        }
      ]
    },
    {
      "cell_type": "code",
      "source": [
        "from sklearn.model_selection import train_test_split\n",
        "X_train,X_test,y_train,y_test=train_test_split(flat_images,target,test_size=0.3,random_state=42)"
      ],
      "metadata": {
        "colab": {
          "base_uri": "https://localhost:8080/",
          "height": 0
        },
        "id": "dQNyNeJFOS-R",
        "outputId": "88d5b573-750f-4bbe-ae62-6145121f6cba"
      },
      "execution_count": 30,
      "outputs": [
        {
          "output_type": "stream",
          "name": "stdout",
          "text": [
            "time: 19.5 ms (started: 2024-08-25 06:40:07 +00:00)\n"
          ]
        }
      ]
    },
    {
      "cell_type": "code",
      "source": [
        "from sklearn import svm\n",
        "model=svm.SVC()\n",
        "model.fit(X_train,y_train)"
      ],
      "metadata": {
        "colab": {
          "base_uri": "https://localhost:8080/",
          "height": 92
        },
        "id": "hYWUcrNiQm51",
        "outputId": "ff9a37ca-e91c-44c3-aff4-5d29acb3f752"
      },
      "execution_count": 36,
      "outputs": [
        {
          "output_type": "execute_result",
          "data": {
            "text/plain": [
              "SVC()"
            ],
            "text/html": [
              "<style>#sk-container-id-1 {color: black;}#sk-container-id-1 pre{padding: 0;}#sk-container-id-1 div.sk-toggleable {background-color: white;}#sk-container-id-1 label.sk-toggleable__label {cursor: pointer;display: block;width: 100%;margin-bottom: 0;padding: 0.3em;box-sizing: border-box;text-align: center;}#sk-container-id-1 label.sk-toggleable__label-arrow:before {content: \"▸\";float: left;margin-right: 0.25em;color: #696969;}#sk-container-id-1 label.sk-toggleable__label-arrow:hover:before {color: black;}#sk-container-id-1 div.sk-estimator:hover label.sk-toggleable__label-arrow:before {color: black;}#sk-container-id-1 div.sk-toggleable__content {max-height: 0;max-width: 0;overflow: hidden;text-align: left;background-color: #f0f8ff;}#sk-container-id-1 div.sk-toggleable__content pre {margin: 0.2em;color: black;border-radius: 0.25em;background-color: #f0f8ff;}#sk-container-id-1 input.sk-toggleable__control:checked~div.sk-toggleable__content {max-height: 200px;max-width: 100%;overflow: auto;}#sk-container-id-1 input.sk-toggleable__control:checked~label.sk-toggleable__label-arrow:before {content: \"▾\";}#sk-container-id-1 div.sk-estimator input.sk-toggleable__control:checked~label.sk-toggleable__label {background-color: #d4ebff;}#sk-container-id-1 div.sk-label input.sk-toggleable__control:checked~label.sk-toggleable__label {background-color: #d4ebff;}#sk-container-id-1 input.sk-hidden--visually {border: 0;clip: rect(1px 1px 1px 1px);clip: rect(1px, 1px, 1px, 1px);height: 1px;margin: -1px;overflow: hidden;padding: 0;position: absolute;width: 1px;}#sk-container-id-1 div.sk-estimator {font-family: monospace;background-color: #f0f8ff;border: 1px dotted black;border-radius: 0.25em;box-sizing: border-box;margin-bottom: 0.5em;}#sk-container-id-1 div.sk-estimator:hover {background-color: #d4ebff;}#sk-container-id-1 div.sk-parallel-item::after {content: \"\";width: 100%;border-bottom: 1px solid gray;flex-grow: 1;}#sk-container-id-1 div.sk-label:hover label.sk-toggleable__label {background-color: #d4ebff;}#sk-container-id-1 div.sk-serial::before {content: \"\";position: absolute;border-left: 1px solid gray;box-sizing: border-box;top: 0;bottom: 0;left: 50%;z-index: 0;}#sk-container-id-1 div.sk-serial {display: flex;flex-direction: column;align-items: center;background-color: white;padding-right: 0.2em;padding-left: 0.2em;position: relative;}#sk-container-id-1 div.sk-item {position: relative;z-index: 1;}#sk-container-id-1 div.sk-parallel {display: flex;align-items: stretch;justify-content: center;background-color: white;position: relative;}#sk-container-id-1 div.sk-item::before, #sk-container-id-1 div.sk-parallel-item::before {content: \"\";position: absolute;border-left: 1px solid gray;box-sizing: border-box;top: 0;bottom: 0;left: 50%;z-index: -1;}#sk-container-id-1 div.sk-parallel-item {display: flex;flex-direction: column;z-index: 1;position: relative;background-color: white;}#sk-container-id-1 div.sk-parallel-item:first-child::after {align-self: flex-end;width: 50%;}#sk-container-id-1 div.sk-parallel-item:last-child::after {align-self: flex-start;width: 50%;}#sk-container-id-1 div.sk-parallel-item:only-child::after {width: 0;}#sk-container-id-1 div.sk-dashed-wrapped {border: 1px dashed gray;margin: 0 0.4em 0.5em 0.4em;box-sizing: border-box;padding-bottom: 0.4em;background-color: white;}#sk-container-id-1 div.sk-label label {font-family: monospace;font-weight: bold;display: inline-block;line-height: 1.2em;}#sk-container-id-1 div.sk-label-container {text-align: center;}#sk-container-id-1 div.sk-container {/* jupyter's `normalize.less` sets `[hidden] { display: none; }` but bootstrap.min.css set `[hidden] { display: none !important; }` so we also need the `!important` here to be able to override the default hidden behavior on the sphinx rendered scikit-learn.org. See: https://github.com/scikit-learn/scikit-learn/issues/21755 */display: inline-block !important;position: relative;}#sk-container-id-1 div.sk-text-repr-fallback {display: none;}</style><div id=\"sk-container-id-1\" class=\"sk-top-container\"><div class=\"sk-text-repr-fallback\"><pre>SVC()</pre><b>In a Jupyter environment, please rerun this cell to show the HTML representation or trust the notebook. <br />On GitHub, the HTML representation is unable to render, please try loading this page with nbviewer.org.</b></div><div class=\"sk-container\" hidden><div class=\"sk-item\"><div class=\"sk-estimator sk-toggleable\"><input class=\"sk-toggleable__control sk-hidden--visually\" id=\"sk-estimator-id-1\" type=\"checkbox\" checked><label for=\"sk-estimator-id-1\" class=\"sk-toggleable__label sk-toggleable__label-arrow\">SVC</label><div class=\"sk-toggleable__content\"><pre>SVC()</pre></div></div></div></div></div>"
            ]
          },
          "metadata": {},
          "execution_count": 36
        },
        {
          "output_type": "stream",
          "name": "stdout",
          "text": [
            "time: 281 ms (started: 2024-08-25 06:53:03 +00:00)\n"
          ]
        }
      ]
    },
    {
      "cell_type": "code",
      "source": [
        "y_pred=model.predict(X_test)\n"
      ],
      "metadata": {
        "id": "H1_ituX1Sk_5",
        "outputId": "8f7b543e-fae0-4b28-b595-c8371182ccd9",
        "colab": {
          "base_uri": "https://localhost:8080/",
          "height": 0
        }
      },
      "execution_count": 37,
      "outputs": [
        {
          "output_type": "stream",
          "name": "stdout",
          "text": [
            "time: 1.14 s (started: 2024-08-25 06:55:15 +00:00)\n"
          ]
        }
      ]
    },
    {
      "cell_type": "code",
      "source": [
        "from sklearn.metrics import accuracy_score,confusion_matrix\n",
        "print(accuracy_score(y_pred,y_test))"
      ],
      "metadata": {
        "id": "m2F_iwPKUUvc",
        "outputId": "e674c311-b3ab-48ae-9672-23cdcc79e8bc",
        "colab": {
          "base_uri": "https://localhost:8080/",
          "height": 0
        }
      },
      "execution_count": 38,
      "outputs": [
        {
          "output_type": "stream",
          "name": "stdout",
          "text": [
            "0.7407407407407407\n",
            "time: 6.71 ms (started: 2024-08-25 06:55:40 +00:00)\n"
          ]
        }
      ]
    },
    {
      "cell_type": "code",
      "source": [
        "img=\"/content/images/pretty sunflower/Image_15.jpg\"\n",
        "img_arry=imread(img)\n",
        "img_resize=resize(img_arry,(150,150,3))\n",
        "flat_data=img_resize.flatten()\n",
        "k=model.predict([flat_data])\n",
        "print(categories[k[0]])"
      ],
      "metadata": {
        "id": "jPikc-rXUa2R",
        "outputId": "e7cf421d-7c96-4245-fec0-7f0fa74fb4cb",
        "colab": {
          "base_uri": "https://localhost:8080/",
          "height": 0
        }
      },
      "execution_count": 44,
      "outputs": [
        {
          "output_type": "stream",
          "name": "stdout",
          "text": [
            "pretty sunflower\n",
            "time: 1.95 s (started: 2024-08-25 07:03:22 +00:00)\n"
          ]
        }
      ]
    },
    {
      "cell_type": "code",
      "source": [
        "import pickle\n",
        "pickle.dump(model,open(\"model.pkl\",\"wb\"))\n"
      ],
      "metadata": {
        "id": "GU8l8LfoUukt",
        "outputId": "f09e08cf-4f29-4e3e-9a5e-64c0e3f0a5b6",
        "colab": {
          "base_uri": "https://localhost:8080/",
          "height": 0
        }
      },
      "execution_count": 45,
      "outputs": [
        {
          "output_type": "stream",
          "name": "stdout",
          "text": [
            "time: 39.8 ms (started: 2024-08-25 07:04:57 +00:00)\n"
          ]
        }
      ]
    },
    {
      "cell_type": "code",
      "source": [
        "m=pickle.load(open(\"model.pkl\",\"rb\"))\n",
        "img=\"/content/images/pretty sunflower/Image_15.jpg\"\n",
        "img_arry=imread(img)\n",
        "img_resize=resize(img_arry,(150,150,3))\n",
        "flat_data=img_resize.flatten()\n",
        "k=m.predict([flat_data])\n",
        "print(categories[k[0]])"
      ],
      "metadata": {
        "id": "Ppwljh6-Was9",
        "outputId": "93e052bc-2e68-4fe3-b110-161940bed092",
        "colab": {
          "base_uri": "https://localhost:8080/",
          "height": 0
        }
      },
      "execution_count": 46,
      "outputs": [
        {
          "output_type": "stream",
          "name": "stdout",
          "text": [
            "pretty sunflower\n",
            "time: 497 ms (started: 2024-08-25 07:05:55 +00:00)\n"
          ]
        }
      ]
    },
    {
      "cell_type": "code",
      "source": [],
      "metadata": {
        "id": "Zj4TGatKWxIl"
      },
      "execution_count": null,
      "outputs": []
    }
  ]
}